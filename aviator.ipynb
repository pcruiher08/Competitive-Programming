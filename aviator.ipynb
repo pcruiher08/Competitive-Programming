{
 "cells": [
  {
   "cell_type": "code",
   "execution_count": 7,
   "metadata": {},
   "outputs": [
    {
     "name": "stdout",
     "output_type": "stream",
     "text": [
      "Success: {'access_token': 'eyJhbGciOiJSUzI1NiIsImtpZCI6IjM2IiwicGkuYXRtIjoiNiJ9.eyJzY29wZSI6WyJtYW5hZ2U6YWxsIl0sImNsaWVudF9pZCI6IlBhcnRzVml6T3JkZXJTdGF0dXNTZXJ2aWNlX1AyMzBfY2NfY2xpZW50IiwiaXNzIjoiaHR0cHM6Ly9mZWRsb2dpbnFhLmNhdC5jb20iLCJhdWQiOiJDQ0RTIiwiY2F0YWZsdG5vcmdjb2RlIjoiUDIzMCIsIm1haWwiOiJuby1yZXBseS1jYXRAbm8tcmVwbHkuY29tIiwiY2F0dG9wbGV2ZWxvcmdjb2RlIjoiUDIzMCIsImNhdGJ1c2luZXNzbWFpbCI6Im5vLXJlcGx5LWNhdEBuby1yZXBseS5jb20iLCJjYXRsb2dpbmlkIjoiUGFydHNWaXpPcmRlclN0YXR1c1NlcnZpY2VfUDIzMF9jY19jbGllbnQiLCJjYXRyZWNpZCI6IlFTUC1GMUZFRkEwOCIsImNhdGFmbHRuY29kZSI6IjAwNSIsImV4cCI6MTcwODExMTkxMH0.JPyiE-Y1epK24ra4lqlFWbZofGI8NhaljjUZiSpWMfxzup9pDgHgqA20vgO1y8OKJEVy085EEmEtpczhr5SJeh0wepI1U7VmVMki2rDtQsOJcN2qiCHNotdJTvOYuMlaD5r_jAAz82MzYxKi33nzXxyyICxEy05LJum06Y-XdsEam-EGSGzNKjtxhp1Atg6I_M8rpSeR9xdpD7GFOx5LC3b1EEpCBgEoMlH_m5yrWpKgLbQJVj2LLMNcsverNfHrVw-E6crqFeaK8MBo82e7kIGPMLg0578j7nhc4Vii3aEi04u4lLgNtLg2GqCJqRX29rkYlv8q3a9NZLLeVkwuqg', 'token_type': 'Bearer', 'expires_in': 3599}\n"
     ]
    }
   ],
   "source": [
    "import requests\n",
    "import base64\n",
    "\n",
    "url = \"https://fedloginqa.cat.com/as/token.oauth2\"\n",
    "\n",
    "headers = {\n",
    "    \"Content-Type\": \"application/x-www-form-urlencoded\"\n",
    "}\n",
    "\n",
    "client_id = \"PartsVizOrderStatusService_P230_cc_client\"\n",
    "client_secret = \"LAjzqKlOPQCweD8m6hljtpVrVhwiLnJk3Ysy3QbZQFcowcXzkgJdJLrE7qu4tMxR\"\n",
    "grant_type = \"client_credentials\"\n",
    "scope = \"manage:all\"\n",
    "\n",
    "credentials = f\"{client_id}:{client_secret}\"\n",
    "credentials_b64 = base64.b64encode(credentials.encode()).decode()\n",
    "\n",
    "data = {\n",
    "    \"grant_type\": grant_type,\n",
    "    \"scope\": scope\n",
    "}\n",
    "\n",
    "response = requests.post(url, headers={**headers, \"Authorization\": f\"Basic {credentials_b64}\"}, data=data)\n",
    "\n",
    "if response.status_code == 200:\n",
    "    print(\"Success:\", response.json())\n",
    "else:\n",
    "    print(\"Error:\", response.json())\n"
   ]
  },
  {
   "cell_type": "code",
   "execution_count": 11,
   "metadata": {},
   "outputs": [
    {
     "name": "stdout",
     "output_type": "stream",
     "text": [
      "eyJhbGciOiJSUzI1NiIsImtpZCI6IjM2IiwicGkuYXRtIjoiNiJ9.eyJzY29wZSI6WyJtYW5hZ2U6YWxsIl0sImNsaWVudF9pZCI6IlBhcnRzVml6T3JkZXJTdGF0dXNTZXJ2aWNlX1AyMzBfY2NfY2xpZW50IiwiaXNzIjoiaHR0cHM6Ly9mZWRsb2dpbnFhLmNhdC5jb20iLCJhdWQiOiJDQ0RTIiwiY2F0YWZsdG5vcmdjb2RlIjoiUDIzMCIsIm1haWwiOiJuby1yZXBseS1jYXRAbm8tcmVwbHkuY29tIiwiY2F0dG9wbGV2ZWxvcmdjb2RlIjoiUDIzMCIsImNhdGJ1c2luZXNzbWFpbCI6Im5vLXJlcGx5LWNhdEBuby1yZXBseS5jb20iLCJjYXRsb2dpbmlkIjoiUGFydHNWaXpPcmRlclN0YXR1c1NlcnZpY2VfUDIzMF9jY19jbGllbnQiLCJjYXRyZWNpZCI6IlFTUC1GMUZFRkEwOCIsImNhdGFmbHRuY29kZSI6IjAwNSIsImV4cCI6MTcwODExMTkxMH0.JPyiE-Y1epK24ra4lqlFWbZofGI8NhaljjUZiSpWMfxzup9pDgHgqA20vgO1y8OKJEVy085EEmEtpczhr5SJeh0wepI1U7VmVMki2rDtQsOJcN2qiCHNotdJTvOYuMlaD5r_jAAz82MzYxKi33nzXxyyICxEy05LJum06Y-XdsEam-EGSGzNKjtxhp1Atg6I_M8rpSeR9xdpD7GFOx5LC3b1EEpCBgEoMlH_m5yrWpKgLbQJVj2LLMNcsverNfHrVw-E6crqFeaK8MBo82e7kIGPMLg0578j7nhc4Vii3aEi04u4lLgNtLg2GqCJqRX29rkYlv8q3a9NZLLeVkwuqg\n"
     ]
    }
   ],
   "source": [
    "access_token = (response.json()['access_token'])\n"
   ]
  },
  {
   "cell_type": "code",
   "execution_count": 26,
   "metadata": {},
   "outputs": [
    {
     "name": "stdout",
     "output_type": "stream",
     "text": [
      "Error: {'errMsg': 'Missing mandatory parameter : fromDate', 'errCode': '400'}\n"
     ]
    }
   ],
   "source": [
    "import requests\n",
    "import base64\n",
    "\n",
    "url = \"https://services-qa.cat.com/supplychainlogistics/transportation/partsVisibility/v1/orders/\"\n",
    "\n",
    "\n",
    "headers = {\n",
    "    \"Authorization\": f\"Bearer {access_token}\",\n",
    "    \"Content-Type\": \"application/json\"\n",
    "}\n",
    "\n",
    "dealer_code = \"P230\"\n",
    "from_date = \"2023-01-16T21:52:05.000Z\"\n",
    "\n",
    "url_with_query = f\"{url}?dealerCode={dealer_code}&fromDate={from_date}\"\n",
    "\n",
    "\n",
    "response = requests.get(url_with_query, headers=headers)\n",
    "\n",
    "if response.status_code == 200:\n",
    "    print(\"Success:\", response.json())\n",
    "else:\n",
    "    print(\"Error:\", response.json())\n"
   ]
  }
 ],
 "metadata": {
  "kernelspec": {
   "display_name": "Python 3",
   "language": "python",
   "name": "python3"
  },
  "language_info": {
   "codemirror_mode": {
    "name": "ipython",
    "version": 3
   },
   "file_extension": ".py",
   "mimetype": "text/x-python",
   "name": "python",
   "nbconvert_exporter": "python",
   "pygments_lexer": "ipython3",
   "version": "3.9.6"
  }
 },
 "nbformat": 4,
 "nbformat_minor": 2
}
