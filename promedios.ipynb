{
 "cells": [
  {
   "cell_type": "markdown",
   "metadata": {},
   "source": [
    "Promedio real"
   ]
  },
  {
   "cell_type": "markdown",
   "metadata": {},
   "source": [
    "$$\\text{Promedio}(\\text{listaDeListas}) = \\frac{\\sum_{j=1}^{\\text{len(listaDeListas})} \\sum_{k=1}^{\\text{len(listaDeListas}[j])} \\text{listaDeListas}[j][k]}{\\sum_{j=1}^{\\text{len(listaDeListas})} \\text{len(listaDeListas}[j])}\n",
    "$$\n"
   ]
  },
  {
   "cell_type": "code",
   "execution_count": 31,
   "metadata": {},
   "outputs": [],
   "source": [
    "def promedio(listaDeListas):\n",
    "    numerador = 0\n",
    "\n",
    "    for j in range (len(listaDeListas)):\n",
    "        for k in range(len(listaDeListas[j])):\n",
    "            numerador += listaDeListas[j][k]\n",
    "\n",
    "    denominador = 0\n",
    "\n",
    "    for j in range(len(listaDeListas)):\n",
    "        denominador += len(listaDeListas[j])\n",
    "\n",
    "\n",
    "    return numerador / denominador"
   ]
  },
  {
   "cell_type": "markdown",
   "metadata": {},
   "source": [
    "Promedio dudoso"
   ]
  },
  {
   "cell_type": "markdown",
   "metadata": {},
   "source": [
    "$$\\text{PromedioDudoso}(\\text{listaDeListas}) = \\frac{\\sum_{j=1}^{\\text{len(listaDeListas)}} \\text{Promedio}(\\text{listaDeListas}[j])}{\\text{len(listaDeListas)}}$$\n"
   ]
  },
  {
   "cell_type": "code",
   "execution_count": 32,
   "metadata": {},
   "outputs": [],
   "source": [
    "def promedioDudoso(listaDeListas):\n",
    "    numerador = 0\n",
    "\n",
    "    for j in range(len(listaDeListas)):\n",
    "        numerador += promedio([listaDeListas[j]])\n",
    "\n",
    "    denominador = len(listaDeListas)\n",
    "\n",
    "    return numerador / denominador"
   ]
  },
  {
   "cell_type": "markdown",
   "metadata": {},
   "source": [
    "Test"
   ]
  },
  {
   "cell_type": "code",
   "execution_count": 33,
   "metadata": {},
   "outputs": [
    {
     "name": "stdout",
     "output_type": "stream",
     "text": [
      "1.1111111111111112\n",
      "1.3333333333333333\n"
     ]
    }
   ],
   "source": [
    "print(promedio([[1],[1,1,1,1,1,1,1],[2]]))\n",
    "print(promedioDudoso([[1],[1,1,1,1,1,1,1],[2]]))\n"
   ]
  }
 ],
 "metadata": {
  "kernelspec": {
   "display_name": "Python 3",
   "language": "python",
   "name": "python3"
  },
  "language_info": {
   "codemirror_mode": {
    "name": "ipython",
    "version": 3
   },
   "file_extension": ".py",
   "mimetype": "text/x-python",
   "name": "python",
   "nbconvert_exporter": "python",
   "pygments_lexer": "ipython3",
   "version": "3.9.6"
  }
 },
 "nbformat": 4,
 "nbformat_minor": 2
}
