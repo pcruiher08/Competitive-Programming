{
 "cells": [
  {
   "cell_type": "code",
   "execution_count": 12,
   "metadata": {},
   "outputs": [],
   "source": [
    "\n",
    "# Load the video\n",
    "import cv2\n",
    "import numpy as np\n",
    "\n",
    "# Load the video\n",
    "video_capture = cv2.VideoCapture('/Users/pablo/Downloads/DJI_0313E.mp4')\n",
    "\n",
    "# Get the video properties\n",
    "frame_width = int(video_capture.get(cv2.CAP_PROP_FRAME_WIDTH))\n",
    "frame_height = int(video_capture.get(cv2.CAP_PROP_FRAME_HEIGHT))\n",
    "fps = int(video_capture.get(cv2.CAP_PROP_FPS))\n",
    "\n",
    "# Define the codec and create VideoWriter object\n",
    "out = cv2.VideoWriter('output_video.mp4', cv2.VideoWriter_fourcc(*'mp4v'), fps, (frame_width, frame_height))\n",
    "\n",
    "while True:\n",
    "    # Read each frame\n",
    "    ret, frame = video_capture.read()\n",
    "    if not ret:\n",
    "        break\n",
    "    \n",
    "    # Convert the frame to grayscale\n",
    "    gray = cv2.cvtColor(frame, cv2.COLOR_BGR2GRAY)\n",
    "    \n",
    "    # Apply Canny edge detection with higher thresholds\n",
    "    edges = cv2.Canny(gray, 100, 200)\n",
    "    \n",
    "    # Count the number of edges\n",
    "    num_edges = np.sum(edges) // 255\n",
    "    \n",
    "    # Annotate the frame with information about the detected edges\n",
    "    cv2.putText(frame, f'Edges: {num_edges}', (20, 50), cv2.FONT_HERSHEY_SIMPLEX, 1, (0, 255, 0), 2, cv2.LINE_AA)\n",
    "    \n",
    "    # Convert the edges to a 3-channel image and make them red\n",
    "    edges_3ch = cv2.cvtColor(edges, cv2.COLOR_GRAY2BGR)\n",
    "    edges_3ch[:, :, 0] = 0  # Set blue channel to zero\n",
    "    edges_3ch[:, :, 1] = 0  # Set green channel to zero\n",
    "    \n",
    "    # Overlay the detected edges (red) onto the original frame\n",
    "    output_frame = cv2.addWeighted(frame, 0.8, edges_3ch, 100, 0)\n",
    "    \n",
    "    # Write the frame to the output video\n",
    "    out.write(output_frame)\n",
    "\n",
    "# Release the video capture object and VideoWriter object\n",
    "video_capture.release()\n",
    "out.release()\n",
    "cv2.destroyAllWindows()\n"
   ]
  },
  {
   "cell_type": "markdown",
   "metadata": {},
   "source": []
  }
 ],
 "metadata": {
  "kernelspec": {
   "display_name": "Python 3",
   "language": "python",
   "name": "python3"
  },
  "language_info": {
   "codemirror_mode": {
    "name": "ipython",
    "version": 3
   },
   "file_extension": ".py",
   "mimetype": "text/x-python",
   "name": "python",
   "nbconvert_exporter": "python",
   "pygments_lexer": "ipython3",
   "version": "3.9.6"
  }
 },
 "nbformat": 4,
 "nbformat_minor": 2
}
