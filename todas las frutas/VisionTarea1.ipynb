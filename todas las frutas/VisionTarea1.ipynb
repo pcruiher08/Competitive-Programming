{
  "cells": [
    {
      "cell_type": "markdown",
      "metadata": {
        "id": "xG4kK0mBYZ2g"
      },
      "source": [
        "Capture:\n",
        "\n",
        "\n",
        "Capture an image\n",
        "*   Change the red and green channels\n",
        "*   Convert to gray scale\n",
        "*   Invert the gray scale (negative image)\n",
        "*   Change to HSV and display only the H channel\n",
        "*   Using a line pattern\n"
      ]
    },
    {
      "cell_type": "code",
      "execution_count": 1,
      "metadata": {
        "id": "nFKPMG9hZAfI"
      },
      "outputs": [
        {
          "name": "stderr",
          "output_type": "stream",
          "text": [
            "c:\\Users\\pcruiher08\\AppData\\Local\\Programs\\Python\\Python37\\lib\\site-packages\\numpy\\_distributor_init.py:32: UserWarning: loaded more than 1 DLL from .libs:\n",
            "c:\\Users\\pcruiher08\\AppData\\Local\\Programs\\Python\\Python37\\lib\\site-packages\\numpy\\.libs\\libopenblas.PYQHXLVVQ7VESDPUVUADXEVJOBGHJPAY.gfortran-win_amd64.dll\n",
            "c:\\Users\\pcruiher08\\AppData\\Local\\Programs\\Python\\Python37\\lib\\site-packages\\numpy\\.libs\\libopenblas.WCDJNK7YVMPZQ2ME2ZZHJJRJ3JIKNDB7.gfortran-win_amd64.dll\n",
            "  stacklevel=1)\n"
          ]
        }
      ],
      "source": [
        "#importing opencv which will be utilized in the whole assignment\n",
        "import cv2"
      ]
    },
    {
      "cell_type": "code",
      "execution_count": 23,
      "metadata": {
        "colab": {
          "base_uri": "https://localhost:8080/",
          "height": 409
        },
        "id": "9KAMJwoQZOOf",
        "outputId": "05846b67-c981-4e94-e2ea-9343c8b9104d"
      },
      "outputs": [],
      "source": [
        "cap = cv2.VideoCapture(0) \n",
        "ret,frame = cap.read() \n",
        "\n",
        "while(True):\n",
        "    cv2.imshow(\"img\",frame)\n",
        "    if cv2.waitKey(1) & 0xFF == ord('q'):\n",
        "        cv2.imwrite(\"imagen.png\",frame)\n",
        "        cv2.destroyAllWindows()\n",
        "        break\n",
        "\n",
        "cap.release()"
      ]
    },
    {
      "cell_type": "code",
      "execution_count": 25,
      "metadata": {},
      "outputs": [],
      "source": [
        "image = cv2.imread(\"imagen.png\", cv2.IMREAD_COLOR)\n",
        "cv2.imshow(\"img\", image)\n",
        "cv2.waitKey(0)\n",
        "cv2.destroyAllWindows()"
      ]
    }
  ],
  "metadata": {
    "colab": {
      "name": "VisionTarea1.ipynb",
      "provenance": []
    },
    "kernelspec": {
      "display_name": "Python 3.7.4 64-bit",
      "language": "python",
      "name": "python3"
    },
    "language_info": {
      "codemirror_mode": {
        "name": "ipython",
        "version": 3
      },
      "file_extension": ".py",
      "mimetype": "text/x-python",
      "name": "python",
      "nbconvert_exporter": "python",
      "pygments_lexer": "ipython3",
      "version": "3.7.4"
    },
    "vscode": {
      "interpreter": {
        "hash": "01864355e0233afee48d67452cbc698cdd9833cfa686427969467eb8981260ef"
      }
    }
  },
  "nbformat": 4,
  "nbformat_minor": 0
}
