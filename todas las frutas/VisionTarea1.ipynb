{
  "cells": [
    {
      "cell_type": "markdown",
      "metadata": {
        "id": "xG4kK0mBYZ2g"
      },
      "source": [
        "Capture:\n",
        "\n",
        "\n",
        "Capture an image\n",
        "*   Change the red and green channels\n",
        "*   Convert to gray scale\n",
        "*   Invert the gray scale (negative image)\n",
        "*   Change to HSV and display only the H channel\n",
        "*   Using a line pattern\n"
      ]
    },
    {
      "cell_type": "code",
      "execution_count": 1,
      "metadata": {
        "id": "nFKPMG9hZAfI"
      },
      "outputs": [
        {
          "name": "stderr",
          "output_type": "stream",
          "text": [
            "c:\\Users\\pcruiher08\\AppData\\Local\\Programs\\Python\\Python37\\lib\\site-packages\\numpy\\_distributor_init.py:32: UserWarning: loaded more than 1 DLL from .libs:\n",
            "c:\\Users\\pcruiher08\\AppData\\Local\\Programs\\Python\\Python37\\lib\\site-packages\\numpy\\.libs\\libopenblas.PYQHXLVVQ7VESDPUVUADXEVJOBGHJPAY.gfortran-win_amd64.dll\n",
            "c:\\Users\\pcruiher08\\AppData\\Local\\Programs\\Python\\Python37\\lib\\site-packages\\numpy\\.libs\\libopenblas.WCDJNK7YVMPZQ2ME2ZZHJJRJ3JIKNDB7.gfortran-win_amd64.dll\n",
            "  stacklevel=1)\n"
          ]
        }
      ],
      "source": [
        "#importing opencv which will be utilized in the whole assignment\n",
        "import cv2\n",
        "import numpy as np"
      ]
    },
    {
      "cell_type": "markdown",
      "metadata": {},
      "source": [
        "Taking a picture and saving it"
      ]
    },
    {
      "cell_type": "code",
      "execution_count": 2,
      "metadata": {
        "colab": {
          "base_uri": "https://localhost:8080/",
          "height": 409
        },
        "id": "9KAMJwoQZOOf",
        "outputId": "05846b67-c981-4e94-e2ea-9343c8b9104d"
      },
      "outputs": [],
      "source": [
        "cap = cv2.VideoCapture(0) \n",
        "ret,frame = cap.read() \n",
        "\n",
        "while(True):\n",
        "    cv2.imshow(\"img\",frame)\n",
        "    if cv2.waitKey(1) & 0xFF == ord('q'):\n",
        "        cv2.imwrite(\"imagen.png\",frame)\n",
        "        cv2.destroyAllWindows()\n",
        "        break\n",
        "\n",
        "cap.release()"
      ]
    },
    {
      "cell_type": "markdown",
      "metadata": {},
      "source": [
        "Opening the saved image"
      ]
    },
    {
      "cell_type": "code",
      "execution_count": 3,
      "metadata": {},
      "outputs": [],
      "source": [
        "image = cv2.imread(\"imagen.png\", cv2.IMREAD_COLOR)\n",
        "cv2.imshow(\"img\", image)\n",
        "cv2.waitKey(0)\n",
        "cv2.destroyAllWindows()"
      ]
    },
    {
      "cell_type": "markdown",
      "metadata": {},
      "source": [
        "Displaying the channels sepparately"
      ]
    },
    {
      "cell_type": "code",
      "execution_count": 7,
      "metadata": {},
      "outputs": [],
      "source": [
        "from turtle import bgcolor\n",
        "\n",
        "\n",
        "B, G, R = cv2.split(image)\n",
        "cv2.imshow(\"B\", B)\n",
        "cv2.imshow(\"G\", G)\n",
        "cv2.imshow(\"R\", R)\n",
        "grayimage = cv2.cvtColor(image, cv2.COLOR_BGR2GRAY)\n",
        "hsvimage = cv2.cvtColor(image, cv2.COLOR_BGR2HSV)\n",
        "H,S,V = cv2.split(hsvimage)\n",
        "swappedimage = image[:, :, [0, 2, 1]]\n",
        "\n",
        "cv2.imshow(\"original\", image)\n",
        "cv2.imshow(\"swapped\", swappedimage)\n",
        "cv2.imshow(\"gray\", grayimage)\n",
        "cv2.imshow(\"hsv\", hsvimage)\n",
        "cv2.imshow(\"only H channel\", H)\n",
        "\n",
        "cv2.waitKey(0)\n",
        "cv2.destroyAllWindows()\n"
      ]
    },
    {
      "cell_type": "markdown",
      "metadata": {},
      "source": [
        "Inverting to gray scale"
      ]
    },
    {
      "cell_type": "code",
      "execution_count": null,
      "metadata": {},
      "outputs": [],
      "source": []
    },
    {
      "cell_type": "code",
      "execution_count": null,
      "metadata": {},
      "outputs": [],
      "source": []
    }
  ],
  "metadata": {
    "colab": {
      "name": "VisionTarea1.ipynb",
      "provenance": []
    },
    "kernelspec": {
      "display_name": "Python 3.7.4 64-bit",
      "language": "python",
      "name": "python3"
    },
    "language_info": {
      "codemirror_mode": {
        "name": "ipython",
        "version": 3
      },
      "file_extension": ".py",
      "mimetype": "text/x-python",
      "name": "python",
      "nbconvert_exporter": "python",
      "pygments_lexer": "ipython3",
      "version": "3.7.4"
    },
    "vscode": {
      "interpreter": {
        "hash": "01864355e0233afee48d67452cbc698cdd9833cfa686427969467eb8981260ef"
      }
    }
  },
  "nbformat": 4,
  "nbformat_minor": 0
}
