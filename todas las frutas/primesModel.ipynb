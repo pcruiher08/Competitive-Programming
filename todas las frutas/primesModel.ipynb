{
 "cells": [
  {
   "cell_type": "code",
   "execution_count": 43,
   "metadata": {},
   "outputs": [],
   "source": [
    "import numpy as np\n",
    "from sklearn.linear_model import LogisticRegression"
   ]
  },
  {
   "cell_type": "code",
   "execution_count": 64,
   "metadata": {},
   "outputs": [],
   "source": [
    "#sieve of erathostenes\n",
    "def sieve(n):\n",
    "    is_prime = np.ones(n+1, dtype=bool)\n",
    "    is_prime[0] = False\n",
    "    is_prime[1] = False\n",
    "    for i in range(2, int(np.sqrt(n))+1):\n",
    "        if is_prime[i]:\n",
    "            is_prime[i*i:n+1:i] = False\n",
    "    primes = np.where(is_prime)[0]\n",
    "    return primes\n",
    "\n",
    "primes = sieve(1000001)\n",
    "\n",
    "def is_prime(n):\n",
    "    return n in primes"
   ]
  },
  {
   "cell_type": "code",
   "execution_count": 95,
   "metadata": {},
   "outputs": [],
   "source": [
    "#prime numbers list to train with primes from 1 to 100\n",
    "numbers = np.arange(1, 101)\n",
    "labels = np.array([is_prime(n) for n in numbers])\n"
   ]
  },
  {
   "cell_type": "code",
   "execution_count": 75,
   "metadata": {},
   "outputs": [],
   "source": [
    "#prime numbers list to test with primes from 1 to 1000000\n",
    "numbersTest = np.arange(1, 1000001)\n",
    "labelsTest = np.array([is_prime(n) for n in numbersTest])"
   ]
  },
  {
   "cell_type": "code",
   "execution_count": 96,
   "metadata": {},
   "outputs": [
    {
     "name": "stdout",
     "output_type": "stream",
     "text": [
      "Accuracy: 0.921502\n"
     ]
    }
   ],
   "source": [
    "model = LogisticRegression()\n",
    "model.fit(numbers.reshape(-1, 1), labels)\n",
    "\n",
    "accuracy = model.score(numbersTest.reshape(-1, 1), labelsTest)\n",
    "print(\"Accuracy:\", accuracy)"
   ]
  }
 ],
 "metadata": {
  "kernelspec": {
   "display_name": "Python 3",
   "language": "python",
   "name": "python3"
  },
  "language_info": {
   "codemirror_mode": {
    "name": "ipython",
    "version": 3
   },
   "file_extension": ".py",
   "mimetype": "text/x-python",
   "name": "python",
   "nbconvert_exporter": "python",
   "pygments_lexer": "ipython3",
   "version": "3.9.6"
  },
  "orig_nbformat": 4
 },
 "nbformat": 4,
 "nbformat_minor": 2
}
