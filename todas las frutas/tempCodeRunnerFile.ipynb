x = frozenset(['foo', 'bar', 'baz'])
x